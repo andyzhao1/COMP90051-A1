{
 "cells": [
  {
   "cell_type": "code",
   "execution_count": null,
   "metadata": {},
   "outputs": [],
   "source": [
    "import pandas as pd"
   ]
  },
  {
   "cell_type": "code",
   "execution_count": null,
   "metadata": {},
   "outputs": [],
   "source": [
    "filename = 'train.txt'\n",
    "user_list = [] # 记录已经存在的用户关系\n",
    "user_list_clean = [] # 记录在数据中出现的用户\n",
    "with open(filename, 'r') as file_to_read:\n",
    "  while True:\n",
    "    lines = file_to_read.readline() # 整行读取数据\n",
    "    if not lines:\n",
    "      break\n",
    "      pass\n",
    "    user_list.append([i.replace(\"\\n\", \"\") for i in lines.split(\"\\t\")])\n",
    "#     user_list_clean.extend([i.replace(\"\\n\", \"\") for i in lines.split(\"\\t\")])\n",
    "    pass\n",
    "# user_list_clean = set(user_list_clean) #去重"
   ]
  },
  {
   "cell_type": "code",
   "execution_count": null,
   "metadata": {},
   "outputs": [],
   "source": [
    "road_edges_exist = [] # label为1的用户组，指它们之间是有关系的（from，to, label = 1），并且接下来要用所有存在的边来生成用户图谱\n",
    "for line in user_list:\n",
    "    way_out = line[0] # way_out指的是根节点用户\n",
    "    if len(line) > 1: # 数据中有一个人是没有好友的，所以要防止报错\n",
    "        for i in line[1:]:\n",
    "            road_edges_exist.append((way_out, i, 1))\n",
    "    else:\n",
    "        continue\n",
    "road_edges_exist = list(set(road_edges_exist)) #去重（有几十万条重复项）"
   ]
  },
  {
   "cell_type": "code",
   "execution_count": null,
   "metadata": {},
   "outputs": [],
   "source": [
    "len(road_edges_exist)"
   ]
  },
  {
   "cell_type": "code",
   "execution_count": null,
   "metadata": {},
   "outputs": [],
   "source": [
    "# 生成label为0的训练集，预计花费30小时\n",
    "import random\n",
    "road_edges_non_exist = [] # label为0的用户组，指它们之间是没有关系的（from，to, label = 0）\n",
    "count = 0\n",
    "for user in user_list_clean:\n",
    "    us_from = user\n",
    "    us_to = random.choice(user_list_clean) # 需要打开第二代码块中的注释\n",
    "    if (us_from != us_to) and ((us_from, us_to, 1) not in road_edges_exist):\n",
    "        road_edges_non_exist.append((us_from, us_to, 0))\n",
    "        count += 1\n",
    "    if count == 25000:\n",
    "        break"
   ]
  },
  {
   "cell_type": "code",
   "execution_count": null,
   "metadata": {},
   "outputs": [],
   "source": [
    "# 选择25000个随机的label等于1的数据放入训练数据集\n",
    "from random import sample\n",
    "data_label_1 = sample(road_edges_exist, 25000)"
   ]
  },
  {
   "cell_type": "code",
   "execution_count": null,
   "metadata": {},
   "outputs": [],
   "source": [
    "# 构建图结构\n",
    "from igraph import Graph as IGraph"
   ]
  },
  {
   "cell_type": "code",
   "execution_count": null,
   "metadata": {},
   "outputs": [],
   "source": [
    "g = IGraph.TupleList(road_edges_exist, directed=True, vertex_name_attr='name', edge_attrs=None, weights=True)\n",
    "names = g.vs[\"name\"]\n",
    "weights = g.es[\"weight\"] #权重是1，就是不考虑权重影响\n",
    "g.is_weighted()"
   ]
  },
  {
   "cell_type": "code",
   "execution_count": null,
   "metadata": {},
   "outputs": [],
   "source": [
    "# 以下是全样本分析\n",
    "df = pd.read_csv(\"train_data.csv\")\n",
    "df"
   ]
  },
  {
   "cell_type": "code",
   "execution_count": null,
   "metadata": {},
   "outputs": [],
   "source": [
    "# 迭代dataframe太慢了，还是迭代列表快一些。每次执行剩下操作前都先读取到from和to列表。如果要直接迭代dataframe，就用iterrows()\n",
    "from_list = []\n",
    "to_list = []\n",
    "\n",
    "for index, row in df.iterrows():\n",
    "    from_list.append(str(row[\"from\"]))\n",
    "    to_list.append(str(row[\"to\"]))"
   ]
  },
  {
   "cell_type": "code",
   "execution_count": null,
   "metadata": {},
   "outputs": [],
   "source": [
    "# 图节点的度（八个指标，出入度各四个）(全样本分析)\n",
    "in_degree_from = []\n",
    "in_degree_to = []\n",
    "out_degree_from = []\n",
    "out_degree_to = []\n",
    "overall_degree_from = []\n",
    "overall_degree_to = []\n",
    "bi_degree_from = []\n",
    "bi_degree_to = []\n",
    "\n",
    "# for index, row in df.iterrows():\n",
    "length = len(from_list)\n",
    "for index in range(length):\n",
    "    in_degree_from.append(g.indegree(from_list[index]))\n",
    "    in_degree_to.append(g.indegree(to_list[index]))\n",
    "    out_degree_from.append(g.outdegree(from_list[index]))\n",
    "    out_degree_to.append(g.outdegree(to_list[index]))\n",
    "    overall_degree_from.append(g.degree(from_list[index]))\n",
    "    overall_degree_to.append(g.degree(to_list[index]))\n",
    "    bi_degree_from.append(len(set(g.neighbors(from_list[index], \"in\")).intersection(set(g.neighbors(from_list[index], \"out\")))))\n",
    "    bi_degree_to.append(len(set(g.neighbors(to_list[index], \"in\")).intersection(set(g.neighbors(to_list[index], \"out\")))))\n",
    "    if index % 1000 == 0:\n",
    "        print(\"complete {}\".format(index))"
   ]
  },
  {
   "cell_type": "code",
   "execution_count": null,
   "metadata": {},
   "outputs": [],
   "source": [
    "# 将新的feature放入原先测试数据集中\n",
    "df['in_degree_from'] = in_degree_from\n",
    "df['in_degree_to'] = in_degree_to\n",
    "df['out_degree_from'] = out_degree_from\n",
    "df['out_degree_to'] = out_degree_to\n",
    "df['overall_degree_from'] = overall_degree_from\n",
    "df['overall_degree_to'] = overall_degree_to\n",
    "df['bi_degree_from'] = bi_degree_from\n",
    "df['bi_degree_to'] = bi_degree_to"
   ]
  },
  {
   "cell_type": "code",
   "execution_count": null,
   "metadata": {},
   "outputs": [],
   "source": [
    "# common_friends feature construct(这三个指标，真·废到家了)\n",
    "in_common_friends = []\n",
    "out_common_friends = []\n",
    "bi_common_friends = []\n",
    "\n",
    "# for index, row in df.iterrows():\n",
    "length = len(from_list)\n",
    "for index in range(length):\n",
    "    in_common_friends.append(len(set(g.neighbors(from_list[index], \"in\")).intersection(set(g.neighbors(to_list[index], \"in\")))))\n",
    "    out_common_friends.append(len(set(g.neighbors(from_list[index], \"out\")).intersection(set(g.neighbors(to_list[index], \"out\")))))\n",
    "    bi_common_friends.append(len(set(g.neighbors(from_list[index], \"in\")).intersection(set(g.neighbors(from_list[index], \"out\"))).intersection(set(g.neighbors(to_list[index], \"in\")).intersection(set(g.neighbors(to_list[index], \"out\"))))))\n",
    "    if index % 2000 == 0:\n",
    "        print(\"completed {}\".format(index))"
   ]
  },
  {
   "cell_type": "code",
   "execution_count": null,
   "metadata": {},
   "outputs": [],
   "source": [
    "df['in_common_friends'] = in_common_friends\n",
    "df['out_common_friends'] = out_common_friends\n",
    "df['bi_common_friends'] = bi_common_friends"
   ]
  },
  {
   "cell_type": "code",
   "execution_count": null,
   "metadata": {},
   "outputs": [],
   "source": [
    "# total_friends feature construct\n",
    "in_total_friends = []\n",
    "out_total_friends = []\n",
    "bi_total_friends = []\n",
    "\n",
    "# for index, row in df.iterrows():\n",
    "length = len(from_list)\n",
    "for index in range(length):\n",
    "    in_total_friends.append(len(set(g.neighbors(from_list[index], \"in\")).union(set(g.neighbors(to_list[index], \"in\")))))\n",
    "    out_total_friends.append(len(set(g.neighbors(from_list[index], \"out\")).union(set(g.neighbors(to_list[index], \"out\")))))\n",
    "    bi_total_friends.append(len(set(g.neighbors(from_list[index], \"in\")).intersection(set(g.neighbors(from_list[index], \"out\"))).union(set(g.neighbors(to_list[index], \"in\")).intersection(set(g.neighbors(to_list[index], \"out\"))))))\n",
    "    if index % 2000 == 0:\n",
    "        print(\"completed {}\".format(index))"
   ]
  },
  {
   "cell_type": "code",
   "execution_count": null,
   "metadata": {},
   "outputs": [],
   "source": [
    "df['in_total_friends'] = in_total_friends\n",
    "df['out_total_friends'] = out_total_friends\n",
    "df['bi_total_friends'] = bi_total_friends"
   ]
  },
  {
   "cell_type": "code",
   "execution_count": null,
   "metadata": {},
   "outputs": [],
   "source": [
    "# transitive_friends feature construct\n",
    "transitive_friends = []\n",
    "\n",
    "# for index, row in df.iterrows():\n",
    "length = len(from_list)\n",
    "for index in range(length):\n",
    "    transitive_friends.append(len(set(g.neighbors(from_list[index], \"out\")).intersection(set(g.neighbors(to_list[index], \"in\")))))\n",
    "    if index % 2000 == 0:\n",
    "        print(\"completed {}\".format(index))"
   ]
  },
  {
   "cell_type": "code",
   "execution_count": null,
   "metadata": {},
   "outputs": [],
   "source": [
    "# preference_attanchment_score feature construct\n",
    "preference_attanchment_score = []\n",
    "\n",
    "# for index, row in df.iterrows():\n",
    "length = len(from_list)\n",
    "for index in range(length):\n",
    "    preference_attanchment_score.append(g.degree(from_list[index]) * g.degree(to_list[index]))\n",
    "    if index % 2000 == 0:\n",
    "        print(\"completed {}\".format(index))"
   ]
  },
  {
   "cell_type": "code",
   "execution_count": null,
   "metadata": {},
   "outputs": [],
   "source": [
    "df['transitive_friends'] = transitive_friends\n",
    "df['preference_attanchment_score'] = preference_attanchment_score"
   ]
  },
  {
   "cell_type": "code",
   "execution_count": null,
   "metadata": {},
   "outputs": [],
   "source": [
    "# 以下生成AA特征\n",
    "import math\n",
    "\n",
    "adamic_adar = []\n",
    "# adamic_adar_out_in = []\n",
    "\n",
    "length = len(from_list)\n",
    "for index in range(length):\n",
    "    from_intersection_to = list(set(g.neighbors(from_list[index])).intersection(set(g.neighbors(to_list[index]))))\n",
    "    log_from_intersection_to = 0\n",
    "    if len(from_intersection_to) > 0:\n",
    "        for i in from_intersection_to:\n",
    "            degree_i = g.degree(i)\n",
    "            if degree_i > 1: #满足对数的真数大于0，且分母不等于0\n",
    "                log_from_intersection_to += 1 / math.log(degree_i) # 根据其他文献，这里应该用以e为底的ln\n",
    "\n",
    "    adamic_adar.append(log_from_intersection_to)\n",
    "    if index % 2000 == 0:\n",
    "        print(\"completed {}\".format(index))"
   ]
  },
  {
   "cell_type": "code",
   "execution_count": null,
   "metadata": {},
   "outputs": [],
   "source": [
    "import math\n",
    "\n",
    "# adamic_adar = []\n",
    "adamic_adar_out_in = []\n",
    "\n",
    "length = len(from_list)\n",
    "for index in range(length):\n",
    "    from_intersection_to = list(set(g.neighbors(from_list[index], \"out\")).intersection(set(g.neighbors(to_list[index], \"in\"))))\n",
    "    log_from_intersection_to = 0\n",
    "    if len(from_intersection_to) > 0:\n",
    "        for i in from_intersection_to:\n",
    "            degree_i = g.degree(i)\n",
    "            if degree_i > 1: #满足对数的真数大于0，且分母不等于0\n",
    "                log_from_intersection_to += 1 / math.log(degree_i) # 根据其他文献，这里应该用以e为底的ln\n",
    "\n",
    "    adamic_adar_out_in.append(log_from_intersection_to)\n",
    "    if index % 2000 == 0:\n",
    "        print(\"completed {}\".format(index))"
   ]
  },
  {
   "cell_type": "code",
   "execution_count": null,
   "metadata": {},
   "outputs": [],
   "source": [
    "df['adamic_adar'] = adamic_adar\n",
    "df['adamic_adar_out_in'] = adamic_adar_out_in"
   ]
  },
  {
   "cell_type": "code",
   "execution_count": null,
   "metadata": {},
   "outputs": [],
   "source": [
    "# friend-measure feature\n",
    "friend_measure = []\n",
    "\n",
    "length = len(from_list)\n",
    "for index in range(length):\n",
    "    u = from_list[index]\n",
    "    v = to_list[index]\n",
    "    u_nei = g.neighbors(u)\n",
    "    v_nei = g.neighbors(v)\n",
    "    name_u_nei = []\n",
    "    name_v_nei = []\n",
    "    for u_n in u_nei:\n",
    "        name_u_nei.append(names[u_n])\n",
    "    for v_n in v_nei:\n",
    "        name_v_nei.append(names[v_n])\n",
    "    \n",
    "    measure_score = 0\n",
    "    for u_n in name_u_nei:\n",
    "        for v_n in name_v_nei:\n",
    "#             if u_n == v_n or (u_n,v_n,1) in road_edges_exist or (v_n,u_n,1) in road_edges_exist:\n",
    "# are_connected(u,v) Decides whether two given vertices are directly connected. (有向图中，该方法还会考虑方向，只有正向连接才会返回true)\n",
    "            if u_n == v_n or g.are_connected(u_n, v_n) or g.are_connected(v_n, u_n): \n",
    "                measure_score += 1\n",
    "            \n",
    "    friend_measure.append(measure_score)\n",
    "    if index % 2000 == 0:\n",
    "        print(\"completed {}\".format(index))"
   ]
  },
  {
   "cell_type": "code",
   "execution_count": null,
   "metadata": {},
   "outputs": [],
   "source": [
    "# oppsite direction friends features\n",
    "oppsite_direction_friends = [] # 二值特征，如果（to，from）在链路中，那么from有很大可能关注to\n",
    "\n",
    "length = len(from_list)\n",
    "for index in range(length):\n",
    "    u = from_list[index] # from\n",
    "    v = to_list[index] # to\n",
    "    if g.are_connected(v, u):\n",
    "        oppsite_direction_friends.append(1)\n",
    "    else:\n",
    "        oppsite_direction_friends.append(0)\n",
    "    if index % 2000 == 0:\n",
    "        print(\"completed {}\".format(index))"
   ]
  },
  {
   "cell_type": "code",
   "execution_count": null,
   "metadata": {},
   "outputs": [],
   "source": [
    "# subgragh edge count feature\n",
    "subgragh_edge_count = []\n",
    "\n",
    "length = len(from_list)\n",
    "for index in range(length):\n",
    "    u = from_list[index] # from\n",
    "    v = to_list[index] # to\n",
    "    from_union_to = list(set(g.neighbors(u)).union(set(g.neighbors(v))))\n",
    "    \n",
    "    # neighbors 返回的数不是节点的名字而是id，id是系统按顺序生成的，所以后面查看是否在链路中的时候要先用names[id]转换成name，再检查\n",
    "    name_from_union_to = []\n",
    "    for i in from_union_to:\n",
    "        name_from_union_to.append(names[i])\n",
    "    \n",
    "    measure_score = 0\n",
    "    for i in name_from_union_to:\n",
    "        for j in name_from_union_to:\n",
    "            if i == j:\n",
    "                continue\n",
    "            if g.are_connected(i, j):\n",
    "                measure_score += 1\n",
    "            else:\n",
    "                continue\n",
    "    subgragh_edge_count.append(measure_score)\n",
    "    if index % 2000 == 0:\n",
    "        print(\"completed {}\".format(index))"
   ]
  },
  {
   "cell_type": "code",
   "execution_count": null,
   "metadata": {},
   "outputs": [],
   "source": [
    "# subgragh add edge count feature\n",
    "subgragh_add_edge_count = []\n",
    "\n",
    "length = len(from_list)\n",
    "for index in range(length):\n",
    "    u = from_list[index] # from\n",
    "    v = to_list[index] # to\n",
    "    from_union_to = list(set(g.neighbors(u)).union(set(g.neighbors(v)))) \n",
    "    # neighbors 返回的数不是节点的名字而是id，id是系统按顺序生成的，所以后面查看是否在链路中的时候要先用names[id]转换成name，再检查\n",
    "    name_from_union_to = []\n",
    "    for i in from_union_to:\n",
    "        name_from_union_to.append(names[i])\n",
    "    if u not in name_from_union_to:\n",
    "        name_from_union_to.append(u)\n",
    "    if v not in name_from_union_to:\n",
    "        name_from_union_to.append(v)\n",
    "    \n",
    "    measure_score = 0\n",
    "    for i in name_from_union_to:\n",
    "        for j in name_from_union_to:\n",
    "            if i == j:\n",
    "                continue\n",
    "            if g.are_connected(i, j):\n",
    "                measure_score += 1\n",
    "            else:\n",
    "                continue\n",
    "    subgragh_add_edge_count.append(measure_score)\n",
    "    \n",
    "    if index % 2000 == 0:\n",
    "        print(\"completed {}\".format(index))"
   ]
  },
  {
   "cell_type": "code",
   "execution_count": null,
   "metadata": {},
   "outputs": [],
   "source": [
    "df['friend_measure'] = friend_measure\n",
    "df['oppsite_direction_friends'] = oppsite_direction_friends\n",
    "df['subgragh_edge_count'] = subgragh_edge_count\n",
    "df['subgragh_add_edge_count'] = subgragh_add_edge_count"
   ]
  },
  {
   "cell_type": "code",
   "execution_count": null,
   "metadata": {},
   "outputs": [],
   "source": [
    "df.to_csv(\"train_data.csv\", index = False, header=True)"
   ]
  }
 ],
 "metadata": {
  "kernelspec": {
   "display_name": "Python 3",
   "language": "python",
   "name": "python3"
  },
  "language_info": {
   "codemirror_mode": {
    "name": "ipython",
    "version": 3
   },
   "file_extension": ".py",
   "mimetype": "text/x-python",
   "name": "python",
   "nbconvert_exporter": "python",
   "pygments_lexer": "ipython3",
   "version": "3.7.7"
  }
 },
 "nbformat": 4,
 "nbformat_minor": 4
}
